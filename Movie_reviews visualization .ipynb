{
 "cells": [
  {
   "cell_type": "code",
   "execution_count": 2,
   "metadata": {
    "collapsed": true
   },
   "outputs": [],
   "source": [
    "import os\n",
    "os.chdir('C:\\\\Users\\\\sadhana reddy\\\\desktop')"
   ]
  },
  {
   "cell_type": "code",
   "execution_count": 3,
   "metadata": {},
   "outputs": [
    {
     "data": {
      "text/plain": [
       "'C:\\\\Users\\\\sadhana reddy\\\\desktop'"
      ]
     },
     "execution_count": 3,
     "metadata": {},
     "output_type": "execute_result"
    }
   ],
   "source": [
    "os.getcwd()"
   ]
  },
  {
   "cell_type": "code",
   "execution_count": 4,
   "metadata": {
    "collapsed": true
   },
   "outputs": [],
   "source": [
    "import numpy as np\n",
    "import pandas as pd"
   ]
  },
  {
   "cell_type": "code",
   "execution_count": 5,
   "metadata": {
    "collapsed": true
   },
   "outputs": [],
   "source": [
    "Movie_reviews = pd.read_csv('Moviedata.csv',encoding = 'latin1')"
   ]
  },
  {
   "cell_type": "code",
   "execution_count": 6,
   "metadata": {},
   "outputs": [
    {
     "name": "stdout",
     "output_type": "stream",
     "text": [
      "<class 'pandas.core.frame.DataFrame'>\n",
      "RangeIndex: 608 entries, 0 to 607\n",
      "Data columns (total 18 columns):\n",
      "Day of Week               608 non-null object\n",
      "Director                  608 non-null object\n",
      "Genre                     608 non-null object\n",
      "Movie Title               608 non-null object\n",
      "Release Date              608 non-null object\n",
      "Studio                    608 non-null object\n",
      "Adjusted Gross ($mill)    608 non-null object\n",
      "Budget ($mill)            608 non-null float64\n",
      "Gross ($mill)             608 non-null object\n",
      "IMDb Rating               608 non-null float64\n",
      "MovieLens Rating          608 non-null float64\n",
      "Overseas ($mill)          608 non-null object\n",
      "Overseas%                 608 non-null float64\n",
      "Profit ($mill)            608 non-null object\n",
      "Profit%                   608 non-null float64\n",
      "Runtime (min)             608 non-null int64\n",
      "US ($mill)                608 non-null float64\n",
      "Gross % US                608 non-null float64\n",
      "dtypes: float64(7), int64(1), object(10)\n",
      "memory usage: 85.6+ KB\n"
     ]
    }
   ],
   "source": [
    "Movie_reviews.info()"
   ]
  },
  {
   "cell_type": "code",
   "execution_count": 7,
   "metadata": {},
   "outputs": [
    {
     "data": {
      "text/plain": [
       "Index(['Day of Week', 'Director', 'Genre', 'Movie Title', 'Release Date',\n",
       "       'Studio', 'Adjusted Gross ($mill)', 'Budget ($mill)', 'Gross ($mill)',\n",
       "       'IMDb Rating', 'MovieLens Rating', 'Overseas ($mill)', 'Overseas%',\n",
       "       'Profit ($mill)', 'Profit%', 'Runtime (min)', 'US ($mill)',\n",
       "       'Gross % US'],\n",
       "      dtype='object')"
      ]
     },
     "execution_count": 7,
     "metadata": {},
     "output_type": "execute_result"
    }
   ],
   "source": [
    "Movie_reviews.columns"
   ]
  },
  {
   "cell_type": "code",
   "execution_count": 8,
   "metadata": {
    "collapsed": true
   },
   "outputs": [],
   "source": [
    "Movie_reviews.columns =['Day_Week','Director','Genre','MovieTitle', 'ReleaseDate',\n",
    "       'Studio', 'AdjGrossinMM', 'BudgetinMM', 'GrossinMM',\n",
    "       'IMDbRating', 'MovieLensRating', 'OverseasinMM', 'Overseas%',\n",
    "       'ProfitinMM', 'Profit%', 'RuntimeinMin', 'USinMM',\n",
    "       'GrosspercentUS']"
   ]
  },
  {
   "cell_type": "code",
   "execution_count": 9,
   "metadata": {},
   "outputs": [
    {
     "name": "stdout",
     "output_type": "stream",
     "text": [
      "<class 'pandas.core.frame.DataFrame'>\n",
      "RangeIndex: 608 entries, 0 to 607\n",
      "Data columns (total 18 columns):\n",
      "Day_Week           608 non-null object\n",
      "Director           608 non-null object\n",
      "Genre              608 non-null object\n",
      "MovieTitle         608 non-null object\n",
      "ReleaseDate        608 non-null object\n",
      "Studio             608 non-null object\n",
      "AdjGrossinMM       608 non-null object\n",
      "BudgetinMM         608 non-null float64\n",
      "GrossinMM          608 non-null object\n",
      "IMDbRating         608 non-null float64\n",
      "MovieLensRating    608 non-null float64\n",
      "OverseasinMM       608 non-null object\n",
      "Overseas%          608 non-null float64\n",
      "ProfitinMM         608 non-null object\n",
      "Profit%            608 non-null float64\n",
      "RuntimeinMin       608 non-null int64\n",
      "USinMM             608 non-null float64\n",
      "GrosspercentUS     608 non-null float64\n",
      "dtypes: float64(7), int64(1), object(10)\n",
      "memory usage: 85.6+ KB\n"
     ]
    }
   ],
   "source": [
    "Movie_reviews.info()"
   ]
  },
  {
   "cell_type": "code",
   "execution_count": 18,
   "metadata": {},
   "outputs": [
    {
     "data": {
      "text/html": [
       "<div>\n",
       "<style>\n",
       "    .dataframe thead tr:only-child th {\n",
       "        text-align: right;\n",
       "    }\n",
       "\n",
       "    .dataframe thead th {\n",
       "        text-align: left;\n",
       "    }\n",
       "\n",
       "    .dataframe tbody tr th {\n",
       "        vertical-align: top;\n",
       "    }\n",
       "</style>\n",
       "<table border=\"1\" class=\"dataframe\">\n",
       "  <thead>\n",
       "    <tr style=\"text-align: right;\">\n",
       "      <th></th>\n",
       "      <th>count</th>\n",
       "      <th>mean</th>\n",
       "      <th>std</th>\n",
       "      <th>min</th>\n",
       "      <th>25%</th>\n",
       "      <th>50%</th>\n",
       "      <th>75%</th>\n",
       "      <th>max</th>\n",
       "    </tr>\n",
       "  </thead>\n",
       "  <tbody>\n",
       "    <tr>\n",
       "      <th>BudgetinMM</th>\n",
       "      <td>608.0</td>\n",
       "      <td>92.467928</td>\n",
       "      <td>59.421407</td>\n",
       "      <td>0.60</td>\n",
       "      <td>45.0000</td>\n",
       "      <td>80.000</td>\n",
       "      <td>130.0000</td>\n",
       "      <td>300.0</td>\n",
       "    </tr>\n",
       "    <tr>\n",
       "      <th>IMDbRating</th>\n",
       "      <td>608.0</td>\n",
       "      <td>6.923849</td>\n",
       "      <td>0.925890</td>\n",
       "      <td>3.60</td>\n",
       "      <td>6.3750</td>\n",
       "      <td>6.900</td>\n",
       "      <td>7.6000</td>\n",
       "      <td>9.2</td>\n",
       "    </tr>\n",
       "    <tr>\n",
       "      <th>MovieLensRating</th>\n",
       "      <td>608.0</td>\n",
       "      <td>3.340378</td>\n",
       "      <td>0.454071</td>\n",
       "      <td>1.49</td>\n",
       "      <td>3.0375</td>\n",
       "      <td>3.365</td>\n",
       "      <td>3.6725</td>\n",
       "      <td>4.5</td>\n",
       "    </tr>\n",
       "    <tr>\n",
       "      <th>Overseas%</th>\n",
       "      <td>608.0</td>\n",
       "      <td>57.698849</td>\n",
       "      <td>12.334237</td>\n",
       "      <td>17.20</td>\n",
       "      <td>49.9000</td>\n",
       "      <td>58.200</td>\n",
       "      <td>66.3000</td>\n",
       "      <td>100.0</td>\n",
       "    </tr>\n",
       "    <tr>\n",
       "      <th>Profit%</th>\n",
       "      <td>608.0</td>\n",
       "      <td>719.278783</td>\n",
       "      <td>1942.807248</td>\n",
       "      <td>7.70</td>\n",
       "      <td>201.8500</td>\n",
       "      <td>338.550</td>\n",
       "      <td>650.1000</td>\n",
       "      <td>41333.3</td>\n",
       "    </tr>\n",
       "    <tr>\n",
       "      <th>RuntimeinMin</th>\n",
       "      <td>608.0</td>\n",
       "      <td>117.781250</td>\n",
       "      <td>23.179122</td>\n",
       "      <td>30.00</td>\n",
       "      <td>100.0000</td>\n",
       "      <td>116.000</td>\n",
       "      <td>130.2500</td>\n",
       "      <td>238.0</td>\n",
       "    </tr>\n",
       "    <tr>\n",
       "      <th>USinMM</th>\n",
       "      <td>608.0</td>\n",
       "      <td>167.135197</td>\n",
       "      <td>92.465903</td>\n",
       "      <td>0.00</td>\n",
       "      <td>106.9500</td>\n",
       "      <td>141.700</td>\n",
       "      <td>202.1000</td>\n",
       "      <td>760.5</td>\n",
       "    </tr>\n",
       "    <tr>\n",
       "      <th>GrosspercentUS</th>\n",
       "      <td>608.0</td>\n",
       "      <td>42.301151</td>\n",
       "      <td>12.334237</td>\n",
       "      <td>0.00</td>\n",
       "      <td>33.7000</td>\n",
       "      <td>41.800</td>\n",
       "      <td>50.1000</td>\n",
       "      <td>82.8</td>\n",
       "    </tr>\n",
       "  </tbody>\n",
       "</table>\n",
       "</div>"
      ],
      "text/plain": [
       "                 count        mean          std    min       25%      50%  \\\n",
       "BudgetinMM       608.0   92.467928    59.421407   0.60   45.0000   80.000   \n",
       "IMDbRating       608.0    6.923849     0.925890   3.60    6.3750    6.900   \n",
       "MovieLensRating  608.0    3.340378     0.454071   1.49    3.0375    3.365   \n",
       "Overseas%        608.0   57.698849    12.334237  17.20   49.9000   58.200   \n",
       "Profit%          608.0  719.278783  1942.807248   7.70  201.8500  338.550   \n",
       "RuntimeinMin     608.0  117.781250    23.179122  30.00  100.0000  116.000   \n",
       "USinMM           608.0  167.135197    92.465903   0.00  106.9500  141.700   \n",
       "GrosspercentUS   608.0   42.301151    12.334237   0.00   33.7000   41.800   \n",
       "\n",
       "                      75%      max  \n",
       "BudgetinMM       130.0000    300.0  \n",
       "IMDbRating         7.6000      9.2  \n",
       "MovieLensRating    3.6725      4.5  \n",
       "Overseas%         66.3000    100.0  \n",
       "Profit%          650.1000  41333.3  \n",
       "RuntimeinMin     130.2500    238.0  \n",
       "USinMM           202.1000    760.5  \n",
       "GrosspercentUS    50.1000     82.8  "
      ]
     },
     "execution_count": 18,
     "metadata": {},
     "output_type": "execute_result"
    }
   ],
   "source": [
    "Movie_reviews.describe().transpose()"
   ]
  },
  {
   "cell_type": "code",
   "execution_count": 28,
   "metadata": {},
   "outputs": [
    {
     "data": {
      "text/plain": [
       "15"
      ]
     },
     "execution_count": 28,
     "metadata": {},
     "output_type": "execute_result"
    }
   ],
   "source": [
    "# categories in Genre\n",
    "len(Movie_reviews.Genre.unique())"
   ]
  },
  {
   "cell_type": "code",
   "execution_count": 26,
   "metadata": {},
   "outputs": [
    {
     "data": {
      "text/plain": [
       "36"
      ]
     },
     "execution_count": 26,
     "metadata": {},
     "output_type": "execute_result"
    }
   ],
   "source": [
    "# categories in Studios\n",
    "len(Movie_reviews.Studio.unique())"
   ]
  },
  {
   "cell_type": "code",
   "execution_count": 21,
   "metadata": {
    "collapsed": true
   },
   "outputs": [],
   "source": [
    "#filtering across required range\n",
    "#***imp filter first and then convert into categorical variables"
   ]
  },
  {
   "cell_type": "code",
   "execution_count": 12,
   "metadata": {},
   "outputs": [
    {
     "data": {
      "text/plain": [
       "526"
      ]
     },
     "execution_count": 12,
     "metadata": {},
     "output_type": "execute_result"
    }
   ],
   "source": [
    "#filtering by genre\n",
    "list1 = ['action','comedy','adventure','animation','drama']\n",
    "Movie_review1 = Movie_reviews[Movie_reviews.Genre.isin(list1)]\n",
    "len(Movie_review1)"
   ]
  },
  {
   "cell_type": "code",
   "execution_count": 13,
   "metadata": {},
   "outputs": [
    {
     "data": {
      "text/plain": [
       "(423, 18)"
      ]
     },
     "execution_count": 13,
     "metadata": {},
     "output_type": "execute_result"
    }
   ],
   "source": [
    "# filtering by studio\n",
    "list2 = ['Buena Vista Studios','Sony', 'Universal','Paramount Pictures','WB','Fox']\n",
    "Movie_review2 = Movie_review1[Movie_review1.Studio.isin(list2)]\n",
    "Movie_review2.shape"
   ]
  },
  {
   "cell_type": "code",
   "execution_count": 22,
   "metadata": {},
   "outputs": [
    {
     "data": {
      "text/plain": [
       "array(['action', 'comedy', 'adventure', 'animation', 'drama'], dtype=object)"
      ]
     },
     "execution_count": 22,
     "metadata": {},
     "output_type": "execute_result"
    }
   ],
   "source": [
    "Movie_review1.Genre.unique()"
   ]
  },
  {
   "cell_type": "code",
   "execution_count": 23,
   "metadata": {},
   "outputs": [
    {
     "data": {
      "text/plain": [
       "array(['Buena Vista Studios', 'Sony', 'Universal', 'WB',\n",
       "       'Paramount Pictures', 'Fox'], dtype=object)"
      ]
     },
     "execution_count": 23,
     "metadata": {},
     "output_type": "execute_result"
    }
   ],
   "source": [
    "Movie_review2.Studio.unique()"
   ]
  },
  {
   "cell_type": "code",
   "execution_count": 17,
   "metadata": {
    "collapsed": true
   },
   "outputs": [],
   "source": [
    "# Transforming to categorical variables\n",
    "Movie_reviews.Day_Week = Movie_reviews.Day_Week.astype('category')\n",
    "Movie_reviews.Director = Movie_reviews.Director.astype('category')\n",
    "Movie_reviews.Genre = Movie_reviews.Genre.astype('category')\n",
    "Movie_reviews.MovieTitle = Movie_reviews.MovieTitle.astype('category')\n",
    "Movie_reviews.Studio = Movie_reviews.Studio.astype('category')"
   ]
  },
  {
   "cell_type": "code",
   "execution_count": 19,
   "metadata": {},
   "outputs": [
    {
     "name": "stdout",
     "output_type": "stream",
     "text": [
      "<class 'pandas.core.frame.DataFrame'>\n",
      "RangeIndex: 608 entries, 0 to 607\n",
      "Data columns (total 18 columns):\n",
      "Day_Week           608 non-null category\n",
      "Director           608 non-null category\n",
      "Genre              608 non-null category\n",
      "MovieTitle         608 non-null category\n",
      "ReleaseDate        608 non-null object\n",
      "Studio             608 non-null category\n",
      "AdjGrossinMM       608 non-null object\n",
      "BudgetinMM         608 non-null float64\n",
      "GrossinMM          608 non-null object\n",
      "IMDbRating         608 non-null float64\n",
      "MovieLensRating    608 non-null float64\n",
      "OverseasinMM       608 non-null object\n",
      "Overseas%          608 non-null float64\n",
      "ProfitinMM         608 non-null object\n",
      "Profit%            608 non-null float64\n",
      "RuntimeinMin       608 non-null int64\n",
      "USinMM             608 non-null float64\n",
      "GrosspercentUS     608 non-null float64\n",
      "dtypes: category(5), float64(7), int64(1), object(5)\n",
      "memory usage: 105.8+ KB\n"
     ]
    }
   ],
   "source": [
    "Movie_reviews.info()"
   ]
  },
  {
   "cell_type": "code",
   "execution_count": 20,
   "metadata": {},
   "outputs": [],
   "source": [
    "# converting earnings to float\n",
    "import warnings\n",
    "warnings.filterwarnings('ignore')\n",
    "Movie_reviews.AdjGrossinMM = Movie_reviews.AdjGrossinMM.convert_objects(convert_numeric=True)\n",
    "Movie_reviews.GrossinMM = Movie_reviews.GrossinMM.convert_objects(convert_numeric=True)\n",
    "Movie_reviews.OverseasinMM = Movie_reviews.OverseasinMM.convert_objects(convert_numeric=True)\n",
    "Movie_reviews.ProfitinMM = Movie_reviews.ProfitinMM.convert_objects(convert_numeric=True)\n",
    "#df.convert_objects(convert_numeric=True)"
   ]
  },
  {
   "cell_type": "code",
   "execution_count": 21,
   "metadata": {},
   "outputs": [
    {
     "data": {
      "text/html": [
       "<div>\n",
       "<style>\n",
       "    .dataframe thead tr:only-child th {\n",
       "        text-align: right;\n",
       "    }\n",
       "\n",
       "    .dataframe thead th {\n",
       "        text-align: left;\n",
       "    }\n",
       "\n",
       "    .dataframe tbody tr th {\n",
       "        vertical-align: top;\n",
       "    }\n",
       "</style>\n",
       "<table border=\"1\" class=\"dataframe\">\n",
       "  <thead>\n",
       "    <tr style=\"text-align: right;\">\n",
       "      <th></th>\n",
       "      <th>AdjGrossinMM</th>\n",
       "      <th>BudgetinMM</th>\n",
       "      <th>GrossinMM</th>\n",
       "      <th>IMDbRating</th>\n",
       "      <th>MovieLensRating</th>\n",
       "      <th>OverseasinMM</th>\n",
       "      <th>Overseas%</th>\n",
       "      <th>ProfitinMM</th>\n",
       "      <th>Profit%</th>\n",
       "      <th>RuntimeinMin</th>\n",
       "      <th>USinMM</th>\n",
       "      <th>GrosspercentUS</th>\n",
       "    </tr>\n",
       "  </thead>\n",
       "  <tbody>\n",
       "    <tr>\n",
       "      <th>count</th>\n",
       "      <td>555.000000</td>\n",
       "      <td>608.000000</td>\n",
       "      <td>586.000000</td>\n",
       "      <td>608.000000</td>\n",
       "      <td>608.000000</td>\n",
       "      <td>605.000000</td>\n",
       "      <td>608.000000</td>\n",
       "      <td>598.000000</td>\n",
       "      <td>608.000000</td>\n",
       "      <td>608.000000</td>\n",
       "      <td>608.000000</td>\n",
       "      <td>608.000000</td>\n",
       "    </tr>\n",
       "    <tr>\n",
       "      <th>mean</th>\n",
       "      <td>452.245586</td>\n",
       "      <td>92.467928</td>\n",
       "      <td>380.741809</td>\n",
       "      <td>6.923849</td>\n",
       "      <td>3.340378</td>\n",
       "      <td>239.758347</td>\n",
       "      <td>57.698849</td>\n",
       "      <td>303.415385</td>\n",
       "      <td>719.278783</td>\n",
       "      <td>117.781250</td>\n",
       "      <td>167.135197</td>\n",
       "      <td>42.301151</td>\n",
       "    </tr>\n",
       "    <tr>\n",
       "      <th>std</th>\n",
       "      <td>186.138062</td>\n",
       "      <td>59.421407</td>\n",
       "      <td>182.089728</td>\n",
       "      <td>0.925890</td>\n",
       "      <td>0.454071</td>\n",
       "      <td>157.605612</td>\n",
       "      <td>12.334237</td>\n",
       "      <td>181.858825</td>\n",
       "      <td>1942.807248</td>\n",
       "      <td>23.179122</td>\n",
       "      <td>92.465903</td>\n",
       "      <td>12.334237</td>\n",
       "    </tr>\n",
       "    <tr>\n",
       "      <th>min</th>\n",
       "      <td>202.100000</td>\n",
       "      <td>0.600000</td>\n",
       "      <td>200.300000</td>\n",
       "      <td>3.600000</td>\n",
       "      <td>1.490000</td>\n",
       "      <td>46.900000</td>\n",
       "      <td>17.200000</td>\n",
       "      <td>19.900000</td>\n",
       "      <td>7.700000</td>\n",
       "      <td>30.000000</td>\n",
       "      <td>0.000000</td>\n",
       "      <td>0.000000</td>\n",
       "    </tr>\n",
       "    <tr>\n",
       "      <th>25%</th>\n",
       "      <td>305.600000</td>\n",
       "      <td>45.000000</td>\n",
       "      <td>245.175000</td>\n",
       "      <td>6.375000</td>\n",
       "      <td>3.037500</td>\n",
       "      <td>135.300000</td>\n",
       "      <td>49.900000</td>\n",
       "      <td>178.925000</td>\n",
       "      <td>201.850000</td>\n",
       "      <td>100.000000</td>\n",
       "      <td>106.950000</td>\n",
       "      <td>33.700000</td>\n",
       "    </tr>\n",
       "    <tr>\n",
       "      <th>50%</th>\n",
       "      <td>402.400000</td>\n",
       "      <td>80.000000</td>\n",
       "      <td>320.400000</td>\n",
       "      <td>6.900000</td>\n",
       "      <td>3.365000</td>\n",
       "      <td>189.000000</td>\n",
       "      <td>58.200000</td>\n",
       "      <td>245.200000</td>\n",
       "      <td>338.550000</td>\n",
       "      <td>116.000000</td>\n",
       "      <td>141.700000</td>\n",
       "      <td>41.800000</td>\n",
       "    </tr>\n",
       "    <tr>\n",
       "      <th>75%</th>\n",
       "      <td>564.550000</td>\n",
       "      <td>130.000000</td>\n",
       "      <td>456.625000</td>\n",
       "      <td>7.600000</td>\n",
       "      <td>3.672500</td>\n",
       "      <td>282.300000</td>\n",
       "      <td>66.300000</td>\n",
       "      <td>368.575000</td>\n",
       "      <td>650.100000</td>\n",
       "      <td>130.250000</td>\n",
       "      <td>202.100000</td>\n",
       "      <td>50.100000</td>\n",
       "    </tr>\n",
       "    <tr>\n",
       "      <th>max</th>\n",
       "      <td>991.000000</td>\n",
       "      <td>300.000000</td>\n",
       "      <td>987.500000</td>\n",
       "      <td>9.200000</td>\n",
       "      <td>4.500000</td>\n",
       "      <td>960.500000</td>\n",
       "      <td>100.000000</td>\n",
       "      <td>966.200000</td>\n",
       "      <td>41333.300000</td>\n",
       "      <td>238.000000</td>\n",
       "      <td>760.500000</td>\n",
       "      <td>82.800000</td>\n",
       "    </tr>\n",
       "  </tbody>\n",
       "</table>\n",
       "</div>"
      ],
      "text/plain": [
       "       AdjGrossinMM  BudgetinMM   GrossinMM  IMDbRating  MovieLensRating  \\\n",
       "count    555.000000  608.000000  586.000000  608.000000       608.000000   \n",
       "mean     452.245586   92.467928  380.741809    6.923849         3.340378   \n",
       "std      186.138062   59.421407  182.089728    0.925890         0.454071   \n",
       "min      202.100000    0.600000  200.300000    3.600000         1.490000   \n",
       "25%      305.600000   45.000000  245.175000    6.375000         3.037500   \n",
       "50%      402.400000   80.000000  320.400000    6.900000         3.365000   \n",
       "75%      564.550000  130.000000  456.625000    7.600000         3.672500   \n",
       "max      991.000000  300.000000  987.500000    9.200000         4.500000   \n",
       "\n",
       "       OverseasinMM   Overseas%  ProfitinMM       Profit%  RuntimeinMin  \\\n",
       "count    605.000000  608.000000  598.000000    608.000000    608.000000   \n",
       "mean     239.758347   57.698849  303.415385    719.278783    117.781250   \n",
       "std      157.605612   12.334237  181.858825   1942.807248     23.179122   \n",
       "min       46.900000   17.200000   19.900000      7.700000     30.000000   \n",
       "25%      135.300000   49.900000  178.925000    201.850000    100.000000   \n",
       "50%      189.000000   58.200000  245.200000    338.550000    116.000000   \n",
       "75%      282.300000   66.300000  368.575000    650.100000    130.250000   \n",
       "max      960.500000  100.000000  966.200000  41333.300000    238.000000   \n",
       "\n",
       "           USinMM  GrosspercentUS  \n",
       "count  608.000000      608.000000  \n",
       "mean   167.135197       42.301151  \n",
       "std     92.465903       12.334237  \n",
       "min      0.000000        0.000000  \n",
       "25%    106.950000       33.700000  \n",
       "50%    141.700000       41.800000  \n",
       "75%    202.100000       50.100000  \n",
       "max    760.500000       82.800000  "
      ]
     },
     "execution_count": 21,
     "metadata": {},
     "output_type": "execute_result"
    }
   ],
   "source": [
    "Movie_reviews.describe()"
   ]
  },
  {
   "cell_type": "code",
   "execution_count": 24,
   "metadata": {
    "collapsed": true
   },
   "outputs": [],
   "source": [
    "#visualization\n",
    "import matplotlib.pyplot as plt\n",
    "%matplotlib inline\n",
    "import seaborn as sns"
   ]
  },
  {
   "cell_type": "code",
   "execution_count": 32,
   "metadata": {},
   "outputs": [
    {
     "data": {
      "text/plain": [
       "<matplotlib.legend.Legend at 0x2be6cacd470>"
      ]
     },
     "execution_count": 32,
     "metadata": {},
     "output_type": "execute_result"
    },
    {
     "data": {
      "image/png": "[encoded data removed]",
      "text/plain": [
       "<matplotlib.figure.Figure at 0x2be6c65d0f0>"
      ]
     },
     "metadata": {},
     "output_type": "display_data"
    }
   ],
   "source": [
    "sns.set(style = 'darkgrid', palette = 'muted', color_codes= True)\n",
    "\n",
    "#boxplot\n",
    "box = sns.boxplot(x ='Genre', y='GrosspercentUS', orient='v',color = 'lightgray',data = Movie_review2,showfliers = False)\n",
    "plt.setp(box.artists,alpha = 0.5)\n",
    "\n",
    "#scatter plot\n",
    "scatter = sns.stripplot(x='Genre', y='GrosspercentUS', hue='Studio', data=Movie_review2,\n",
    "                        jitter= True,size=6, linewidth = 0, alpha = 0.7)\n",
    "\n",
    "box.axes.set_title('Domestic Gross % by Genre', fontsize = 20)\n",
    "box.legend(bbox_to_anchor = (1,1),loc =2)\n"
   ]
  },
  {
   "cell_type": "code",
   "execution_count": null,
   "metadata": {
    "collapsed": true
   },
   "outputs": [],
   "source": []
  }
 ],
 "metadata": {
  "kernelspec": {
   "display_name": "Python 3",
   "language": "python",
   "name": "python3"
  },
  "language_info": {
   "codemirror_mode": {
    "name": "ipython",
    "version": 3
   },
   "file_extension": ".py",
   "mimetype": "text/x-python",
   "name": "python",
   "nbconvert_exporter": "python",
   "pygments_lexer": "ipython3",
   "version": "3.6.1"
  }
 },
 "nbformat": 4,
 "nbformat_minor": 2
}
